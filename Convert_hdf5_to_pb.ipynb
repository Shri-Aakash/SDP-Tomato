{
  "nbformat": 4,
  "nbformat_minor": 0,
  "metadata": {
    "colab": {
      "provenance": [],
      "authorship_tag": "ABX9TyMLIYs5fkhDYVKdqpOJFSVA",
      "include_colab_link": true
    },
    "kernelspec": {
      "name": "python3",
      "display_name": "Python 3"
    },
    "language_info": {
      "name": "python"
    },
    "accelerator": "GPU",
    "gpuClass": "standard"
  },
  "cells": [
    {
      "cell_type": "markdown",
      "metadata": {
        "id": "view-in-github",
        "colab_type": "text"
      },
      "source": [
        "<a href=\"https://colab.research.google.com/github/Shri-Aakash/SDP-Tomato/blob/main/Convert_hdf5_to_pb.ipynb\" target=\"_parent\"><img src=\"https://colab.research.google.com/assets/colab-badge.svg\" alt=\"Open In Colab\"/></a>"
      ]
    },
    {
      "cell_type": "code",
      "execution_count": 1,
      "metadata": {
        "id": "cc_XBs8PqHCY"
      },
      "outputs": [],
      "source": [
        "import tensorflow as tf\n",
        "from tensorflow import keras\n",
        "from tensorflow.python.framework.convert_to_constants import convert_variables_to_constants_v2\n",
        "import numpy as np"
      ]
    },
    {
      "cell_type": "code",
      "source": [
        "!mkdir \"Frozen Models\""
      ],
      "metadata": {
        "id": "B15Z_MmEqyup"
      },
      "execution_count": 2,
      "outputs": []
    },
    {
      "cell_type": "code",
      "source": [
        "frozen_model_path='/content/Frozen Models'\n",
        "frozen_graph_name='VGG-19'\n",
        "model=keras.models.load_model('/content/4-0.86.hdf5')"
      ],
      "metadata": {
        "id": "ZUMpEgIpqzHq"
      },
      "execution_count": 3,
      "outputs": []
    },
    {
      "cell_type": "code",
      "source": [
        "fullModel=tf.function(lambda x:model(x))\n",
        "fullModel=fullModel.get_concrete_function(tf.TensorSpec(model.inputs[0].shape,model.inputs[0].dtype))"
      ],
      "metadata": {
        "id": "Q6n7RmTAqzcp"
      },
      "execution_count": 4,
      "outputs": []
    },
    {
      "cell_type": "code",
      "source": [
        "frozen_func=convert_variables_to_constants_v2(fullModel)\n",
        "frozen_func.graph.as_graph_def()"
      ],
      "metadata": {
        "id": "oKgBcirCs0HP"
      },
      "execution_count": 5,
      "outputs": []
    },
    {
      "cell_type": "code",
      "source": [
        "layers=[op.name for op in frozen_func.graph.get_operations()]\n",
        "print(\"-\"*60)\n",
        "print(\"Frozen Model Layers: \")\n",
        "for layer in layers:\n",
        "  print(layer)\n",
        "print(\"-\"*60)\n",
        "print(\"Frozen model inputs: \")\n",
        "print(frozen_func.inputs)\n",
        "print(\"Frozen model outputs: \")\n",
        "print(frozen_func.outputs)"
      ],
      "metadata": {
        "colab": {
          "base_uri": "https://localhost:8080/"
        },
        "id": "pwlgLwlesZGW",
        "outputId": "9fb651a0-28ac-4daf-f925-111da9488e94"
      },
      "execution_count": 6,
      "outputs": [
        {
          "output_type": "stream",
          "name": "stdout",
          "text": [
            "------------------------------------------------------------\n",
            "Frozen Model Layers: \n",
            "x\n",
            "model/block1_conv1/Conv2D/ReadVariableOp/resource\n",
            "model/block1_conv1/Conv2D/ReadVariableOp\n",
            "model/block1_conv1/Conv2D\n",
            "model/block1_conv1/BiasAdd/ReadVariableOp/resource\n",
            "model/block1_conv1/BiasAdd/ReadVariableOp\n",
            "model/block1_conv1/BiasAdd\n",
            "model/block1_conv1/Relu\n",
            "model/block1_conv2/Conv2D/ReadVariableOp/resource\n",
            "model/block1_conv2/Conv2D/ReadVariableOp\n",
            "model/block1_conv2/Conv2D\n",
            "model/block1_conv2/BiasAdd/ReadVariableOp/resource\n",
            "model/block1_conv2/BiasAdd/ReadVariableOp\n",
            "model/block1_conv2/BiasAdd\n",
            "model/block1_conv2/Relu\n",
            "model/block1_pool/MaxPool\n",
            "model/block2_conv1/Conv2D/ReadVariableOp/resource\n",
            "model/block2_conv1/Conv2D/ReadVariableOp\n",
            "model/block2_conv1/Conv2D\n",
            "model/block2_conv1/BiasAdd/ReadVariableOp/resource\n",
            "model/block2_conv1/BiasAdd/ReadVariableOp\n",
            "model/block2_conv1/BiasAdd\n",
            "model/block2_conv1/Relu\n",
            "model/block2_conv2/Conv2D/ReadVariableOp/resource\n",
            "model/block2_conv2/Conv2D/ReadVariableOp\n",
            "model/block2_conv2/Conv2D\n",
            "model/block2_conv2/BiasAdd/ReadVariableOp/resource\n",
            "model/block2_conv2/BiasAdd/ReadVariableOp\n",
            "model/block2_conv2/BiasAdd\n",
            "model/block2_conv2/Relu\n",
            "model/block2_pool/MaxPool\n",
            "model/block3_conv1/Conv2D/ReadVariableOp/resource\n",
            "model/block3_conv1/Conv2D/ReadVariableOp\n",
            "model/block3_conv1/Conv2D\n",
            "model/block3_conv1/BiasAdd/ReadVariableOp/resource\n",
            "model/block3_conv1/BiasAdd/ReadVariableOp\n",
            "model/block3_conv1/BiasAdd\n",
            "model/block3_conv1/Relu\n",
            "model/block3_conv2/Conv2D/ReadVariableOp/resource\n",
            "model/block3_conv2/Conv2D/ReadVariableOp\n",
            "model/block3_conv2/Conv2D\n",
            "model/block3_conv2/BiasAdd/ReadVariableOp/resource\n",
            "model/block3_conv2/BiasAdd/ReadVariableOp\n",
            "model/block3_conv2/BiasAdd\n",
            "model/block3_conv2/Relu\n",
            "model/block3_conv3/Conv2D/ReadVariableOp/resource\n",
            "model/block3_conv3/Conv2D/ReadVariableOp\n",
            "model/block3_conv3/Conv2D\n",
            "model/block3_conv3/BiasAdd/ReadVariableOp/resource\n",
            "model/block3_conv3/BiasAdd/ReadVariableOp\n",
            "model/block3_conv3/BiasAdd\n",
            "model/block3_conv3/Relu\n",
            "model/block3_conv4/Conv2D/ReadVariableOp/resource\n",
            "model/block3_conv4/Conv2D/ReadVariableOp\n",
            "model/block3_conv4/Conv2D\n",
            "model/block3_conv4/BiasAdd/ReadVariableOp/resource\n",
            "model/block3_conv4/BiasAdd/ReadVariableOp\n",
            "model/block3_conv4/BiasAdd\n",
            "model/block3_conv4/Relu\n",
            "model/block3_pool/MaxPool\n",
            "model/block4_conv1/Conv2D/ReadVariableOp/resource\n",
            "model/block4_conv1/Conv2D/ReadVariableOp\n",
            "model/block4_conv1/Conv2D\n",
            "model/block4_conv1/BiasAdd/ReadVariableOp/resource\n",
            "model/block4_conv1/BiasAdd/ReadVariableOp\n",
            "model/block4_conv1/BiasAdd\n",
            "model/block4_conv1/Relu\n",
            "model/block4_conv2/Conv2D/ReadVariableOp/resource\n",
            "model/block4_conv2/Conv2D/ReadVariableOp\n",
            "model/block4_conv2/Conv2D\n",
            "model/block4_conv2/BiasAdd/ReadVariableOp/resource\n",
            "model/block4_conv2/BiasAdd/ReadVariableOp\n",
            "model/block4_conv2/BiasAdd\n",
            "model/block4_conv2/Relu\n",
            "model/block4_conv3/Conv2D/ReadVariableOp/resource\n",
            "model/block4_conv3/Conv2D/ReadVariableOp\n",
            "model/block4_conv3/Conv2D\n",
            "model/block4_conv3/BiasAdd/ReadVariableOp/resource\n",
            "model/block4_conv3/BiasAdd/ReadVariableOp\n",
            "model/block4_conv3/BiasAdd\n",
            "model/block4_conv3/Relu\n",
            "model/block4_conv4/Conv2D/ReadVariableOp/resource\n",
            "model/block4_conv4/Conv2D/ReadVariableOp\n",
            "model/block4_conv4/Conv2D\n",
            "model/block4_conv4/BiasAdd/ReadVariableOp/resource\n",
            "model/block4_conv4/BiasAdd/ReadVariableOp\n",
            "model/block4_conv4/BiasAdd\n",
            "model/block4_conv4/Relu\n",
            "model/block4_pool/MaxPool\n",
            "model/block5_conv1/Conv2D/ReadVariableOp/resource\n",
            "model/block5_conv1/Conv2D/ReadVariableOp\n",
            "model/block5_conv1/Conv2D\n",
            "model/block5_conv1/BiasAdd/ReadVariableOp/resource\n",
            "model/block5_conv1/BiasAdd/ReadVariableOp\n",
            "model/block5_conv1/BiasAdd\n",
            "model/block5_conv1/Relu\n",
            "model/block5_conv2/Conv2D/ReadVariableOp/resource\n",
            "model/block5_conv2/Conv2D/ReadVariableOp\n",
            "model/block5_conv2/Conv2D\n",
            "model/block5_conv2/BiasAdd/ReadVariableOp/resource\n",
            "model/block5_conv2/BiasAdd/ReadVariableOp\n",
            "model/block5_conv2/BiasAdd\n",
            "model/block5_conv2/Relu\n",
            "model/block5_conv3/Conv2D/ReadVariableOp/resource\n",
            "model/block5_conv3/Conv2D/ReadVariableOp\n",
            "model/block5_conv3/Conv2D\n",
            "model/block5_conv3/BiasAdd/ReadVariableOp/resource\n",
            "model/block5_conv3/BiasAdd/ReadVariableOp\n",
            "model/block5_conv3/BiasAdd\n",
            "model/block5_conv3/Relu\n",
            "model/block5_conv4/Conv2D/ReadVariableOp/resource\n",
            "model/block5_conv4/Conv2D/ReadVariableOp\n",
            "model/block5_conv4/Conv2D\n",
            "model/block5_conv4/BiasAdd/ReadVariableOp/resource\n",
            "model/block5_conv4/BiasAdd/ReadVariableOp\n",
            "model/block5_conv4/BiasAdd\n",
            "model/block5_conv4/Relu\n",
            "model/block5_pool/MaxPool\n",
            "model/flatten/Const\n",
            "model/flatten/Reshape\n",
            "model/dense/MatMul/ReadVariableOp/resource\n",
            "model/dense/MatMul/ReadVariableOp\n",
            "model/dense/MatMul\n",
            "model/dense/BiasAdd/ReadVariableOp/resource\n",
            "model/dense/BiasAdd/ReadVariableOp\n",
            "model/dense/BiasAdd\n",
            "model/dense/Softmax\n",
            "NoOp\n",
            "Identity\n",
            "------------------------------------------------------------\n",
            "Frozen model inputs: \n",
            "[<tf.Tensor 'x:0' shape=(None, 224, 224, 3) dtype=float32>]\n",
            "Frozen model outputs: \n",
            "[<tf.Tensor 'Identity:0' shape=(None, 4) dtype=float32>]\n"
          ]
        }
      ]
    },
    {
      "cell_type": "code",
      "source": [
        "tf.io.write_graph(graph_or_graph_def=frozen_func.graph,logdir=frozen_model_path,name=f'{frozen_graph_name}.pb',as_text=False)\n",
        "tf.io.write_graph(graph_or_graph_def=frozen_func.graph,logdir=frozen_model_path,name=f'{frozen_graph_name}.pbtxt',as_text=True)"
      ],
      "metadata": {
        "colab": {
          "base_uri": "https://localhost:8080/",
          "height": 36
        },
        "id": "3YpZs-pfuacU",
        "outputId": "32f8c5c8-7d21-414f-df0b-e2c574c64485"
      },
      "execution_count": 7,
      "outputs": [
        {
          "output_type": "execute_result",
          "data": {
            "text/plain": [
              "'/content/Frozen Models/VGG-19.pbtxt'"
            ],
            "application/vnd.google.colaboratory.intrinsic+json": {
              "type": "string"
            }
          },
          "metadata": {},
          "execution_count": 7
        }
      ]
    },
    {
      "cell_type": "code",
      "source": [
        "!zip -r \"VGG19 Frozen.zip\" \"Frozen Models\""
      ],
      "metadata": {
        "colab": {
          "base_uri": "https://localhost:8080/"
        },
        "id": "McB5npSB2Jqz",
        "outputId": "a6238daf-22e1-48ef-cf27-5076958a1bc5"
      },
      "execution_count": 9,
      "outputs": [
        {
          "output_type": "stream",
          "name": "stdout",
          "text": [
            "updating: Frozen Models/ (stored 0%)\n",
            "  adding: Frozen Models/VGG-19.pb (deflated 7%)\n",
            "  adding: Frozen Models/VGG-19.pbtxt (deflated 56%)\n"
          ]
        }
      ]
    },
    {
      "cell_type": "code",
      "source": [],
      "metadata": {
        "id": "oatxW5hk2nim"
      },
      "execution_count": null,
      "outputs": []
    }
  ]
}