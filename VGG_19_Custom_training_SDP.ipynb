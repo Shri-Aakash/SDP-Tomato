{
  "nbformat": 4,
  "nbformat_minor": 0,
  "metadata": {
    "colab": {
      "provenance": [],
      "mount_file_id": "1Ub-CrnpL0G09m7yndFGpW3GMbeBntHzs",
      "authorship_tag": "ABX9TyOIecpZpU+x5APLIRvM7fKH",
      "include_colab_link": true
    },
    "kernelspec": {
      "name": "python3",
      "display_name": "Python 3"
    },
    "language_info": {
      "name": "python"
    },
    "accelerator": "GPU",
    "gpuClass": "standard"
  },
  "cells": [
    {
      "cell_type": "markdown",
      "metadata": {
        "id": "view-in-github",
        "colab_type": "text"
      },
      "source": [
        "<a href=\"https://colab.research.google.com/github/Shri-Aakash/SDP-Tomato/blob/main/VGG_19_Custom_training_SDP.ipynb\" target=\"_parent\"><img src=\"https://colab.research.google.com/assets/colab-badge.svg\" alt=\"Open In Colab\"/></a>"
      ]
    },
    {
      "cell_type": "code",
      "source": [
        "!nvidia-smi"
      ],
      "metadata": {
        "colab": {
          "base_uri": "https://localhost:8080/"
        },
        "id": "sX2lg4HXq6Rx",
        "outputId": "417fbffb-679d-4309-a408-4e46c452e5d6"
      },
      "execution_count": 1,
      "outputs": [
        {
          "output_type": "stream",
          "name": "stdout",
          "text": [
            "Thu Nov 10 09:52:57 2022       \n",
            "+-----------------------------------------------------------------------------+\n",
            "| NVIDIA-SMI 460.32.03    Driver Version: 460.32.03    CUDA Version: 11.2     |\n",
            "|-------------------------------+----------------------+----------------------+\n",
            "| GPU  Name        Persistence-M| Bus-Id        Disp.A | Volatile Uncorr. ECC |\n",
            "| Fan  Temp  Perf  Pwr:Usage/Cap|         Memory-Usage | GPU-Util  Compute M. |\n",
            "|                               |                      |               MIG M. |\n",
            "|===============================+======================+======================|\n",
            "|   0  Tesla T4            Off  | 00000000:00:04.0 Off |                    0 |\n",
            "| N/A   65C    P8    11W /  70W |      0MiB / 15109MiB |      0%      Default |\n",
            "|                               |                      |                  N/A |\n",
            "+-------------------------------+----------------------+----------------------+\n",
            "                                                                               \n",
            "+-----------------------------------------------------------------------------+\n",
            "| Processes:                                                                  |\n",
            "|  GPU   GI   CI        PID   Type   Process name                  GPU Memory |\n",
            "|        ID   ID                                                   Usage      |\n",
            "|=============================================================================|\n",
            "|  No running processes found                                                 |\n",
            "+-----------------------------------------------------------------------------+\n"
          ]
        }
      ]
    },
    {
      "cell_type": "code",
      "execution_count": 2,
      "metadata": {
        "id": "tZasS32HHAZe"
      },
      "outputs": [],
      "source": [
        "import tensorflow as tf\n",
        "from tensorflow.keras.models import Model\n",
        "from tensorflow.keras.layers import Dense,Lambda,Flatten,Input\n",
        "from tensorflow.keras.preprocessing.image import ImageDataGenerator\n",
        "from tensorflow.keras.optimizers import Adam\n",
        "from tensorflow.keras.callbacks import EarlyStopping,ReduceLROnPlateau,ModelCheckpoint\n",
        "from tensorflow.keras.applications.vgg19 import VGG19\n",
        "from tensorflow.keras.applications.vgg19 import preprocess_input\n",
        "import numpy as np\n",
        "from glob import glob\n",
        "import matplotlib.pyplot as plt"
      ]
    },
    {
      "cell_type": "code",
      "source": [
        "tf.config.list_physical_devices('GPU')\n",
        "sys_details = tf.sysconfig.get_build_info()\n",
        "cuda_version = sys_details[\"cuda_version\"]\n",
        "print(cuda_version)"
      ],
      "metadata": {
        "colab": {
          "base_uri": "https://localhost:8080/"
        },
        "id": "PDnbaXR7qjSP",
        "outputId": "782b5197-2fea-424e-c9c3-6fe0429f685a"
      },
      "execution_count": 3,
      "outputs": [
        {
          "output_type": "stream",
          "name": "stdout",
          "text": [
            "11.2\n"
          ]
        }
      ]
    },
    {
      "cell_type": "code",
      "source": [
        "import os"
      ],
      "metadata": {
        "id": "aseVmNfdnQ_w"
      },
      "execution_count": 4,
      "outputs": []
    },
    {
      "cell_type": "code",
      "source": [
        "imgShape=[224,224,3]\n",
        "batchSize=16"
      ],
      "metadata": {
        "id": "GYAPegCoJTrf"
      },
      "execution_count": 5,
      "outputs": []
    },
    {
      "cell_type": "code",
      "source": [
        "from google.colab import drive\n",
        "drive.mount('/content/drive')"
      ],
      "metadata": {
        "id": "1llMf42_JXj-",
        "colab": {
          "base_uri": "https://localhost:8080/"
        },
        "outputId": "dba02a80-b08f-4bc6-ba82-da40fdda55c9"
      },
      "execution_count": null,
      "outputs": [
        {
          "output_type": "stream",
          "name": "stdout",
          "text": [
            "Drive already mounted at /content/drive; to attempt to forcibly remount, call drive.mount(\"/content/drive\", force_remount=True).\n"
          ]
        }
      ]
    },
    {
      "cell_type": "code",
      "source": [
        "dataPath='/content/drive/MyDrive/VGG-16 Tomato'"
      ],
      "metadata": {
        "id": "-ifl8q7sn_8B"
      },
      "execution_count": 6,
      "outputs": []
    },
    {
      "cell_type": "code",
      "source": [
        "categories=os.listdir(dataPath)\n",
        "categories"
      ],
      "metadata": {
        "colab": {
          "base_uri": "https://localhost:8080/"
        },
        "id": "kvBjn14KnnvU",
        "outputId": "1ac33550-7d25-44d9-f7bd-31345dcaee40"
      },
      "execution_count": 7,
      "outputs": [
        {
          "output_type": "execute_result",
          "data": {
            "text/plain": [
              "['Ripe Tomato', 'Green tomato', 'Rotten Tomatoes', 'Half ripe tomato']"
            ]
          },
          "metadata": {},
          "execution_count": 7
        }
      ]
    },
    {
      "cell_type": "code",
      "source": [
        "vg19=VGG19(include_top=False,weights='imagenet',input_shape=imgShape)\n",
        "vg19.output"
      ],
      "metadata": {
        "colab": {
          "base_uri": "https://localhost:8080/"
        },
        "id": "hNKwhRgfn3DZ",
        "outputId": "24d61fc6-5217-4888-9f14-e5c366e38b01"
      },
      "execution_count": 8,
      "outputs": [
        {
          "output_type": "stream",
          "name": "stdout",
          "text": [
            "Downloading data from https://storage.googleapis.com/tensorflow/keras-applications/vgg19/vgg19_weights_tf_dim_ordering_tf_kernels_notop.h5\n",
            "80134624/80134624 [==============================] - 0s 0us/step\n"
          ]
        },
        {
          "output_type": "execute_result",
          "data": {
            "text/plain": [
              "<KerasTensor: shape=(None, 7, 7, 512) dtype=float32 (created by layer 'block5_pool')>"
            ]
          },
          "metadata": {},
          "execution_count": 8
        }
      ]
    },
    {
      "cell_type": "code",
      "source": [
        "for layer in vg19.layers:\n",
        "  layer.trainable=False"
      ],
      "metadata": {
        "id": "Szrp2vwHn88z"
      },
      "execution_count": 9,
      "outputs": []
    },
    {
      "cell_type": "code",
      "source": [
        "dataGen=ImageDataGenerator(rescale=1./255,\n",
        "                           preprocessing_function=preprocess_input,\n",
        "                           rotation_range=30,\n",
        "                           shear_range=0.2,\n",
        "                           zoom_range=0.1,\n",
        "                           horizontal_flip=True,\n",
        "                           fill_mode='nearest',\n",
        "                           validation_split=0.2)\n",
        "\n",
        "trainData=dataGen.flow_from_directory(dataPath,\n",
        "                                      target_size=(imgShape[0],imgShape[1]),\n",
        "                                      color_mode='rgb',\n",
        "                                      class_mode='categorical',\n",
        "                                      batch_size=batchSize,\n",
        "                                      shuffle=True,\n",
        "                                      subset='training')\n",
        "\n",
        "valData=dataGen.flow_from_directory(dataPath,\n",
        "                                      target_size=(imgShape[0],imgShape[1]),\n",
        "                                      color_mode='rgb',\n",
        "                                      class_mode='categorical',\n",
        "                                      batch_size=batchSize,\n",
        "                                      shuffle=True,\n",
        "                                      subset='validation')\n",
        "\n",
        "print(trainData.samples,valData.samples)"
      ],
      "metadata": {
        "colab": {
          "base_uri": "https://localhost:8080/"
        },
        "id": "t8iEQnxepG1t",
        "outputId": "e6c47082-203b-4bc9-8ef7-b2df2c0f1347"
      },
      "execution_count": 10,
      "outputs": [
        {
          "output_type": "stream",
          "name": "stdout",
          "text": [
            "Found 3179 images belonging to 4 classes.\n",
            "Found 792 images belonging to 4 classes.\n",
            "3179 792\n"
          ]
        }
      ]
    },
    {
      "cell_type": "code",
      "source": [
        "img,label=trainData.__next__()"
      ],
      "metadata": {
        "id": "kG_jPTW7tSKa"
      },
      "execution_count": 11,
      "outputs": []
    },
    {
      "cell_type": "code",
      "source": [
        "x=Flatten()(vg19.output)\n",
        "prediction=Dense(len(categories),activation='softmax')(x)\n",
        "model=Model(inputs=vg19.inputs,outputs=prediction)\n",
        "model.summary()"
      ],
      "metadata": {
        "colab": {
          "base_uri": "https://localhost:8080/"
        },
        "id": "G2-EHo3wtrO5",
        "outputId": "27736671-82c9-44d8-c738-95fd05dd9722"
      },
      "execution_count": 12,
      "outputs": [
        {
          "output_type": "stream",
          "name": "stdout",
          "text": [
            "Model: \"model\"\n",
            "_________________________________________________________________\n",
            " Layer (type)                Output Shape              Param #   \n",
            "=================================================================\n",
            " input_1 (InputLayer)        [(None, 224, 224, 3)]     0         \n",
            "                                                                 \n",
            " block1_conv1 (Conv2D)       (None, 224, 224, 64)      1792      \n",
            "                                                                 \n",
            " block1_conv2 (Conv2D)       (None, 224, 224, 64)      36928     \n",
            "                                                                 \n",
            " block1_pool (MaxPooling2D)  (None, 112, 112, 64)      0         \n",
            "                                                                 \n",
            " block2_conv1 (Conv2D)       (None, 112, 112, 128)     73856     \n",
            "                                                                 \n",
            " block2_conv2 (Conv2D)       (None, 112, 112, 128)     147584    \n",
            "                                                                 \n",
            " block2_pool (MaxPooling2D)  (None, 56, 56, 128)       0         \n",
            "                                                                 \n",
            " block3_conv1 (Conv2D)       (None, 56, 56, 256)       295168    \n",
            "                                                                 \n",
            " block3_conv2 (Conv2D)       (None, 56, 56, 256)       590080    \n",
            "                                                                 \n",
            " block3_conv3 (Conv2D)       (None, 56, 56, 256)       590080    \n",
            "                                                                 \n",
            " block3_conv4 (Conv2D)       (None, 56, 56, 256)       590080    \n",
            "                                                                 \n",
            " block3_pool (MaxPooling2D)  (None, 28, 28, 256)       0         \n",
            "                                                                 \n",
            " block4_conv1 (Conv2D)       (None, 28, 28, 512)       1180160   \n",
            "                                                                 \n",
            " block4_conv2 (Conv2D)       (None, 28, 28, 512)       2359808   \n",
            "                                                                 \n",
            " block4_conv3 (Conv2D)       (None, 28, 28, 512)       2359808   \n",
            "                                                                 \n",
            " block4_conv4 (Conv2D)       (None, 28, 28, 512)       2359808   \n",
            "                                                                 \n",
            " block4_pool (MaxPooling2D)  (None, 14, 14, 512)       0         \n",
            "                                                                 \n",
            " block5_conv1 (Conv2D)       (None, 14, 14, 512)       2359808   \n",
            "                                                                 \n",
            " block5_conv2 (Conv2D)       (None, 14, 14, 512)       2359808   \n",
            "                                                                 \n",
            " block5_conv3 (Conv2D)       (None, 14, 14, 512)       2359808   \n",
            "                                                                 \n",
            " block5_conv4 (Conv2D)       (None, 14, 14, 512)       2359808   \n",
            "                                                                 \n",
            " block5_pool (MaxPooling2D)  (None, 7, 7, 512)         0         \n",
            "                                                                 \n",
            " flatten (Flatten)           (None, 25088)             0         \n",
            "                                                                 \n",
            " dense (Dense)               (None, 4)                 100356    \n",
            "                                                                 \n",
            "=================================================================\n",
            "Total params: 20,124,740\n",
            "Trainable params: 100,356\n",
            "Non-trainable params: 20,024,384\n",
            "_________________________________________________________________\n"
          ]
        }
      ]
    },
    {
      "cell_type": "code",
      "source": [
        "!mkdir Models"
      ],
      "metadata": {
        "id": "FQgcb5F8vDWJ"
      },
      "execution_count": 13,
      "outputs": []
    },
    {
      "cell_type": "code",
      "source": [
        "numEpochs=50"
      ],
      "metadata": {
        "id": "H7dKGSeEwFIa"
      },
      "execution_count": 14,
      "outputs": []
    },
    {
      "cell_type": "code",
      "source": [
        "filepath='Models/{epoch}-{val_accuracy:.2f}.hdf5'\n",
        "checkpoint=ModelCheckpoint(filepath,monitor='val_accuracy',mode='max',save_best_only=True,verbose=1)\n",
        "earlyStop=EarlyStopping(monitor='val_loss',patience=5,verbose=1)\n",
        "reduceLR=ReduceLROnPlateau(monitor='val_accuracy',factor=0.1,patience=3,verbose=1,mode='max',min_lr=1e-10)\n",
        "callbackList=[checkpoint,reduceLR,earlyStop]"
      ],
      "metadata": {
        "id": "blvzuCuZvRfD"
      },
      "execution_count": 15,
      "outputs": []
    },
    {
      "cell_type": "code",
      "source": [
        "optim=Adam(learning_rate=1e-4)\n",
        "model.compile(optimizer = optim, loss='categorical_crossentropy', metrics=['accuracy'])"
      ],
      "metadata": {
        "id": "WLw3833Vumrs"
      },
      "execution_count": 16,
      "outputs": []
    },
    {
      "cell_type": "code",
      "source": [
        "modelHistory=model.fit(trainData,\n",
        "                       steps_per_epoch=trainData.samples//batchSize,\n",
        "                       validation_data=valData,\n",
        "                       validation_steps=valData.samples//batchSize,\n",
        "                       epochs=numEpochs,\n",
        "                       callbacks=callbackList)"
      ],
      "metadata": {
        "colab": {
          "base_uri": "https://localhost:8080/"
        },
        "id": "bsYnVHJev8h0",
        "outputId": "755738de-3591-4921-8a2e-f9de242b5ca6"
      },
      "execution_count": 19,
      "outputs": [
        {
          "output_type": "stream",
          "name": "stdout",
          "text": [
            "Epoch 1/50\n",
            "198/198 [==============================] - ETA: 0s - loss: 0.1406 - accuracy: 0.9488\n",
            "Epoch 1: val_accuracy did not improve from 0.87755\n",
            "198/198 [==============================] - 58s 295ms/step - loss: 0.1406 - accuracy: 0.9488 - val_loss: 0.3659 - val_accuracy: 0.8431 - lr: 1.0000e-06\n",
            "Epoch 2/50\n",
            "198/198 [==============================] - ETA: 0s - loss: 0.1424 - accuracy: 0.9485\n",
            "Epoch 2: val_accuracy did not improve from 0.87755\n",
            "198/198 [==============================] - 58s 293ms/step - loss: 0.1424 - accuracy: 0.9485 - val_loss: 0.3593 - val_accuracy: 0.8533 - lr: 1.0000e-06\n",
            "Epoch 3/50\n",
            "198/198 [==============================] - ETA: 0s - loss: 0.1404 - accuracy: 0.9504\n",
            "Epoch 3: val_accuracy did not improve from 0.87755\n",
            "198/198 [==============================] - 58s 292ms/step - loss: 0.1404 - accuracy: 0.9504 - val_loss: 0.3551 - val_accuracy: 0.8610 - lr: 1.0000e-06\n",
            "Epoch 4/50\n",
            "198/198 [==============================] - ETA: 0s - loss: 0.1406 - accuracy: 0.9453\n",
            "Epoch 4: val_accuracy did not improve from 0.87755\n",
            "198/198 [==============================] - 59s 297ms/step - loss: 0.1406 - accuracy: 0.9453 - val_loss: 0.3557 - val_accuracy: 0.8469 - lr: 1.0000e-06\n",
            "Epoch 5/50\n",
            "198/198 [==============================] - ETA: 0s - loss: 0.1418 - accuracy: 0.9469\n",
            "Epoch 5: val_accuracy did not improve from 0.87755\n",
            "198/198 [==============================] - 58s 292ms/step - loss: 0.1418 - accuracy: 0.9469 - val_loss: 0.3678 - val_accuracy: 0.8393 - lr: 1.0000e-06\n",
            "Epoch 6/50\n",
            "198/198 [==============================] - ETA: 0s - loss: 0.1391 - accuracy: 0.9469\n",
            "Epoch 6: val_accuracy did not improve from 0.87755\n",
            "\n",
            "Epoch 6: ReduceLROnPlateau reducing learning rate to 9.999999974752428e-08.\n",
            "198/198 [==============================] - 58s 291ms/step - loss: 0.1391 - accuracy: 0.9469 - val_loss: 0.3687 - val_accuracy: 0.8418 - lr: 1.0000e-06\n",
            "Epoch 7/50\n",
            "198/198 [==============================] - ETA: 0s - loss: 0.1387 - accuracy: 0.9516\n",
            "Epoch 7: val_accuracy did not improve from 0.87755\n",
            "198/198 [==============================] - 58s 293ms/step - loss: 0.1387 - accuracy: 0.9516 - val_loss: 0.3429 - val_accuracy: 0.8495 - lr: 1.0000e-07\n",
            "Epoch 8/50\n",
            "198/198 [==============================] - ETA: 0s - loss: 0.1405 - accuracy: 0.9478\n",
            "Epoch 8: val_accuracy did not improve from 0.87755\n",
            "198/198 [==============================] - 59s 298ms/step - loss: 0.1405 - accuracy: 0.9478 - val_loss: 0.3737 - val_accuracy: 0.8406 - lr: 1.0000e-07\n",
            "Epoch 9/50\n",
            "198/198 [==============================] - ETA: 0s - loss: 0.1367 - accuracy: 0.9535\n",
            "Epoch 9: val_accuracy did not improve from 0.87755\n",
            "\n",
            "Epoch 9: ReduceLROnPlateau reducing learning rate to 1.0000000116860975e-08.\n",
            "198/198 [==============================] - 58s 292ms/step - loss: 0.1367 - accuracy: 0.9535 - val_loss: 0.3580 - val_accuracy: 0.8418 - lr: 1.0000e-07\n",
            "Epoch 10/50\n",
            "198/198 [==============================] - ETA: 0s - loss: 0.1404 - accuracy: 0.9504\n",
            "Epoch 10: val_accuracy did not improve from 0.87755\n",
            "198/198 [==============================] - 58s 293ms/step - loss: 0.1404 - accuracy: 0.9504 - val_loss: 0.3722 - val_accuracy: 0.8406 - lr: 1.0000e-08\n",
            "Epoch 11/50\n",
            "198/198 [==============================] - ETA: 0s - loss: 0.1400 - accuracy: 0.9519\n",
            "Epoch 11: val_accuracy did not improve from 0.87755\n",
            "198/198 [==============================] - 58s 292ms/step - loss: 0.1400 - accuracy: 0.9519 - val_loss: 0.3680 - val_accuracy: 0.8380 - lr: 1.0000e-08\n",
            "Epoch 12/50\n",
            "198/198 [==============================] - ETA: 0s - loss: 0.1374 - accuracy: 0.9504\n",
            "Epoch 12: val_accuracy did not improve from 0.87755\n",
            "\n",
            "Epoch 12: ReduceLROnPlateau reducing learning rate to 9.999999939225292e-10.\n",
            "198/198 [==============================] - 59s 299ms/step - loss: 0.1374 - accuracy: 0.9504 - val_loss: 0.3662 - val_accuracy: 0.8367 - lr: 1.0000e-08\n",
            "Epoch 12: early stopping\n"
          ]
        }
      ]
    },
    {
      "cell_type": "code",
      "source": [],
      "metadata": {
        "id": "OIsQtzoexCDn"
      },
      "execution_count": null,
      "outputs": []
    }
  ]
}